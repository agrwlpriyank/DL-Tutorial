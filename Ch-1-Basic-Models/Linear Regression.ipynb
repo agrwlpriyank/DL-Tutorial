{
 "cells": [
  {
   "cell_type": "markdown",
   "metadata": {},
   "source": [
    "---\n",
    "## Linear Regression\n",
    "---\n",
    "__Introduction to Linear Regression__ [[1]](https://en.wikipedia.org/wiki/Linear_regression)\n",
    "\n",
    "Consider a set of N-D datapoints and 1-D. In linear regression, the relationship between the dependent and indepedent variables is modeled as linear function of the form:\n",
    "\n",
    "$y = w \\bullet x + b$\n",
    "\n",
    "where $y$ is the dependent variable (to be predicted) and $x$ is the independent variable."
   ]
  },
  {
   "cell_type": "code",
   "execution_count": 1,
   "metadata": {},
   "outputs": [],
   "source": [
    "import time\n",
    "from IPython import display\n",
    "\n",
    "# Import the libraries and load the datasets.\n",
    "import numpy as np\n",
    "import tensorflow as tf\n",
    "\n",
    "# Plots.\n",
    "import matplotlib.pyplot as plt"
   ]
  },
  {
   "cell_type": "markdown",
   "metadata": {},
   "source": [
    "---\n",
    "### Linear Regression in Tensorflow\n",
    "Following are the steps to implement a simple linear regression function in Tensorflow.\n",
    "\n",
    "_Example: Consider the line `y = 12 * x + 10`_"
   ]
  },
  {
   "cell_type": "code",
   "execution_count": 2,
   "metadata": {},
   "outputs": [
    {
     "data": {
      "image/png": "[encoded data removed]",
      "text/plain": [
       "<matplotlib.figure.Figure at 0x3fff3c05df90>"
      ]
     },
     "metadata": {},
     "output_type": "display_data"
    }
   ],
   "source": [
    "# Generate some random data.\n",
    "n = 250 # Number of datapoints.\n",
    "d = 1 # The dimensions of the datapoints.\n",
    "slope = 12\n",
    "bias = 10\n",
    "\n",
    "# Randomly generate input.\n",
    "sample_x = np.random.rand(n, d)\n",
    "\n",
    "# Consider the equation of the y = m.x + b\n",
    "sample_y = slope*sample_x + bias\n",
    "\n",
    "# NOTE: We do not want a straight line. So add some random noise to the input.\n",
    "sample_noise = np.random.rand(n, d)\n",
    "sample_x += sample_noise\n",
    "\n",
    "# Plot.\n",
    "plt.scatter(sample_x, sample_y, marker='x')\n",
    "plt.xlabel('x', fontsize=18)\n",
    "plt.ylabel('y', fontsize=18)\n",
    "plt.show()"
   ]
  },
  {
   "cell_type": "markdown",
   "metadata": {},
   "source": [
    "__Try__: Change the bias and slope, plot the points."
   ]
  },
  {
   "cell_type": "markdown",
   "metadata": {},
   "source": [
    "---\n",
    "__Step 1__: Create the tensorflow placeholders for the $x$ and $y$ points. Also create a tensorflow variable to store the weights $w$.\n",
    "\n",
    "Tensorflow defines variables as [[2]](https://www.tensorflow.org/programmers_guide/variables):\n",
    ">A variable is the best way to represent shared, persistent state manipulated by your program. Variables are manipulated via the `tf.Variable` class. A `tf.Variable` represents a tensor whose value can be changed by running ops on it. Unlike `tf.Tensor` objects, a `tf.Variable` exists outside the context of a single `session.run` call.\n",
    "\n",
    "We use `tf.get_variable` to create variable instead. It is a wrapper that allows you to automatically add an initializer, a regularizer and many other options [[3]](https://www.tensorflow.org/api_docs/python/tf/get_variable)."
   ]
  },
  {
   "cell_type": "code",
   "execution_count": 3,
   "metadata": {},
   "outputs": [],
   "source": [
    "# NOTE: The name of the variable is optional.\n",
    "x = tf.placeholder(tf.float32, shape=(None, 1), name=\"X\")\n",
    "y = tf.placeholder(tf.float32, shape=(None, 1), name=\"Y\")\n",
    "lr_rate = tf.placeholder(tf.float32, shape=(), name=\"lr\")\n",
    "\n",
    "# Weight & bias.\n",
    "# w = tf.get_variable(shape=[1], name=\"w\", initializer=tf.zeros_initializer())\n",
    "# b = tf.get_variable(shape=[1], name=\"b\", initializer=tf.zeros_initializer())\n",
    "\n",
    "# Initialize with a different value.\n",
    "w = tf.Variable(np.array([[5.0]]), dtype=tf.float32, name=\"w\")\n",
    "b = tf.Variable(np.array([[5.0]]), dtype=tf.float32, name=\"b\")"
   ]
  },
  {
   "cell_type": "markdown",
   "metadata": {},
   "source": [
    "__Step 2__: Once the placeholders & variable have been created, compute the $y$."
   ]
  },
  {
   "cell_type": "code",
   "execution_count": 4,
   "metadata": {},
   "outputs": [],
   "source": [
    "# Compute predicted Y.\n",
    "y_pred = w*x + b"
   ]
  },
  {
   "cell_type": "markdown",
   "metadata": {},
   "source": [
    "__Step 3__: Once the predicted $y$ has been computed, define the loss between the predicted $y$ and the actual $y$.\n",
    "\n",
    "The loss can be of various forms. In case of linear regression, we can use the L2-norm or the euclidean distance between the two points.\n",
    "\n",
    "$Loss(y) = \\lVert y - y_{pred} \\rVert^2$   \n",
    "\n",
    "i.e.  \n",
    "\n",
    "$Loss(y) = \\frac{\\sum_n(y - y_{pred})^2}{2*n}$"
   ]
  },
  {
   "cell_type": "code",
   "execution_count": 5,
   "metadata": {},
   "outputs": [],
   "source": [
    "loss = tf.div(tf.reduce_mean(tf.square(y - y_pred)), 2*n)\n",
    "\n",
    "# This can be done in a single line.\n",
    "# loss = tf.losses.mean_squared_error(y, y_pred)"
   ]
  },
  {
   "cell_type": "markdown",
   "metadata": {},
   "source": [
    "__Step 4__: The loss shows how far we are from the actual $y$ value. Use the loss to change the weights by calulating the gradient w.r.t $w$. We use a stochastic gradient descent optimizer for this purpose."
   ]
  },
  {
   "cell_type": "code",
   "execution_count": 6,
   "metadata": {},
   "outputs": [],
   "source": [
    "# Create a gradient descent optimizer with the set learning rate\n",
    "optimizer = tf.train.GradientDescentOptimizer(learning_rate=lr_rate)\n",
    "\n",
    "# Run the optimizer to minimize loss\n",
    "# Tensorflow automatically computes the gradients for the loss function!!!\n",
    "train = optimizer.minimize(loss)"
   ]
  },
  {
   "cell_type": "markdown",
   "metadata": {},
   "source": [
    "__Step 5__: `train` is the variable that is evaluated when the session is executed. The linear regression functions are now defined. While training `train` is evaluated and while testing or predicting $y$, `y_pred` is evaluated.\n",
    "\n",
    "Initialize the variables in tensorflow."
   ]
  },
  {
   "cell_type": "code",
   "execution_count": 7,
   "metadata": {},
   "outputs": [],
   "source": [
    "# Initialize all variables\n",
    "init = tf.global_variables_initializer()"
   ]
  },
  {
   "cell_type": "markdown",
   "metadata": {},
   "source": [
    "__Step 6__: Now we are going to build the model. This is accomplished by evaluating the `train` variable for a set defined number of loops or __epochs__. During each epoch, a sample $x$ is used to compute $y_{pred}$ and iteratively the $w$ is changed while the loss is reduced. Each time a loss is generated, the gradient computed can be used to update $w$, but this gradient is not constant across points (because loss is not constant).\n",
    "\n",
    "It varies for each $y$ and so only a small portion of the gradient is used to update the $w$ parameter. This helps stabilize the $w$ from \"jumping around\" a lot while never reaching the steady state.\n",
    "\n",
    "So how do you define the best learning rate? Trial and Error."
   ]
  },
  {
   "cell_type": "code",
   "execution_count": 8,
   "metadata": {},
   "outputs": [
    {
     "name": "stdout",
     "output_type": "stream",
     "text": [
      "W: 7.67125177383, B: 8.05626583099, Loss: 0.0129069695249\n",
      "Slope: 12, Bias: 10\n"
     ]
    },
    {
     "data": {
      "image/png": "[encoded data removed]",
      "text/plain": [
       "<matplotlib.figure.Figure at 0x3fff3bfbd810>"
      ]
     },
     "metadata": {},
     "output_type": "display_data"
    }
   ],
   "source": [
    "# Define some hyper-parameters.\n",
    "lr = 0.1\n",
    "epochs = 5000\n",
    "\n",
    "# Train the model.\n",
    "with tf.Session() as sess:\n",
    "    # Initialize all variables\n",
    "    sess.run(init)\n",
    "    \n",
    "    for epoch in range(epochs):\n",
    "        y_p, curr_w, curr_b, curr_loss, _ = sess.run([y_pred, w, b, loss, train],\n",
    "                                                        feed_dict = {x:sample_x, y: sample_y,\n",
    "                                                                     lr_rate: lr})\n",
    "        \n",
    "    print(\"W: {}, B: {}, Loss: {}\".format(curr_w[0][0], curr_b[0][0], curr_loss))\n",
    "    print(\"Slope: {}, Bias: {}\".format(slope, bias))\n",
    "    plt.scatter(sample_x, sample_y, marker='x')\n",
    "    plt.scatter(sample_x, y_p, c='red', marker='o')\n",
    "    plt.xlabel('x', fontsize=18)\n",
    "    plt.ylabel('y', fontsize=18)\n",
    "    plt.show()"
   ]
  },
  {
   "cell_type": "markdown",
   "metadata": {},
   "source": [
    "---\n",
    "## Keras Implementation.\n",
    "Keras is an abstract library built over tensorflow (and other popular libraries such as theano & CNTK). It provides an easier API where users do not have to create variables or perform specific vector operations. Keras provides them in the form of __layers__ that can add either sequentially or in any other combinaton. Also, it provides an easy API to compile the models, save & load the models.\n",
    "\n",
    "Its API is very similar to scikit-learn where it has a `fit` function to train, `predict` to perform predictions and each function has a host of parameters to validate, perform parallel training and so.\n",
    "\n",
    "For more information [[4]](https://keras.io/).\n",
    "\n",
    "__NOTE: In most cases, for applications of deep learning, the standard / hot of the press research methods are quickly integrated into Keras. It has a large community of developers. I recommend its use, unless there are specific kinds of computation you are looking for and cannot find it in Keras.__\n",
    "\n",
    "So why study Tensorflow then?\n",
    "__Because, ultimately knowing Tensorflow does help!__"
   ]
  },
  {
   "cell_type": "code",
   "execution_count": 9,
   "metadata": {},
   "outputs": [
    {
     "name": "stderr",
     "output_type": "stream",
     "text": [
      "Using TensorFlow backend.\n"
     ]
    }
   ],
   "source": [
    "from keras.layers import Dense, Input\n",
    "from keras.initializers import random_normal\n",
    "from keras.models import Model\n",
    "from keras import optimizers, metrics"
   ]
  },
  {
   "cell_type": "markdown",
   "metadata": {},
   "source": [
    "As seen in the previous section of the notebook, let us breakdown the implementation of the model into a series of steps.\n",
    "\n",
    "__Step 1__: Create the layers.\n",
    "\n",
    "* __Dense Layer__: This layer is the equivalent of implementing $w \\bullet x + b$ and many more options. This is its simplest case.\n",
    "\n",
    "* __Input Layer__: This layer simply casts the sample_x values into a Tensor (and validates the shape).\n",
    "\n",
    "Important to remember that Keras input layer does not have `None`. This is because by default it consider only the shape of a single sample and not the size of the batch. `None` represents any sized batch in Tensorflow."
   ]
  },
  {
   "cell_type": "code",
   "execution_count": 10,
   "metadata": {},
   "outputs": [],
   "source": [
    "# Create a layer to take an input.\n",
    "input_l = Input(shape=np.array([1]))\n",
    "# Compute Wx + b.\n",
    "dense = Dense(np.array([1]), activation='linear')\n",
    "output = dense(input_l)"
   ]
  },
  {
   "cell_type": "markdown",
   "metadata": {},
   "source": [
    "__Step 2__: Create and compile the model."
   ]
  },
  {
   "cell_type": "code",
   "execution_count": 11,
   "metadata": {},
   "outputs": [
    {
     "name": "stdout",
     "output_type": "stream",
     "text": [
      "_________________________________________________________________\n",
      "Layer (type)                 Output Shape              Param #   \n",
      "=================================================================\n",
      "input_1 (InputLayer)         (None, 1)                 0         \n",
      "_________________________________________________________________\n",
      "dense_1 (Dense)              (None, array([1]))        2         \n",
      "=================================================================\n",
      "Total params: 2\n",
      "Trainable params: 2\n",
      "Non-trainable params: 0\n",
      "_________________________________________________________________\n"
     ]
    }
   ],
   "source": [
    "# Create a model and compile it.\n",
    "model = Model(inputs=[input_l], outputs=[output])\n",
    "model.summary() # Get the summary."
   ]
  },
  {
   "cell_type": "markdown",
   "metadata": {},
   "source": [
    "__Step 3__: Add the optimizer and the loss function. The loss is `mean_squared_error`."
   ]
  },
  {
   "cell_type": "code",
   "execution_count": 12,
   "metadata": {},
   "outputs": [],
   "source": [
    "sgd = optimizers.sgd(lr=lr)\n",
    "model.compile(optimizer=sgd, loss='mean_squared_error')"
   ]
  },
  {
   "cell_type": "markdown",
   "metadata": {},
   "source": [
    "__That's pretty much it!__\n",
    "Once the model has been created, use the `fit` function to train and `predict` function to predict."
   ]
  },
  {
   "cell_type": "code",
   "execution_count": 13,
   "metadata": {},
   "outputs": [
    {
     "data": {
      "text/plain": [
       "<keras.callbacks.History at 0x3bfd97644d90>"
      ]
     },
     "execution_count": 13,
     "metadata": {},
     "output_type": "execute_result"
    }
   ],
   "source": [
    "# Train the model.\n",
    "model.fit(x=sample_x, y=sample_y, epochs=epochs, verbose=0)"
   ]
  },
  {
   "cell_type": "code",
   "execution_count": 14,
   "metadata": {},
   "outputs": [
    {
     "name": "stdout",
     "output_type": "stream",
     "text": [
      "\r",
      " 32/250 [==>...........................] - ETA: 0s"
     ]
    }
   ],
   "source": [
    "# Predict the y's.\n",
    "y_p = model.predict(sample_x)\n",
    "y_p_loss = model.evaluate(sample_x, sample_y)"
   ]
  },
  {
   "cell_type": "code",
   "execution_count": 15,
   "metadata": {},
   "outputs": [
    {
     "name": "stdout",
     "output_type": "stream",
     "text": [
      "Evaluation Metrics: ['loss']\n",
      "W: 6.04618597031, B: 9.90206241608, Loss: 5.95258642578\n",
      "Slope: 12, Bias: 10\n"
     ]
    },
    {
     "data": {
      "image/png": "[encoded data removed]",
      "text/plain": [
       "<matplotlib.figure.Figure at 0x3fff3bb97850>"
      ]
     },
     "metadata": {},
     "output_type": "display_data"
    }
   ],
   "source": [
    "# Plot them.\n",
    "print(\"Evaluation Metrics: \" + str(model.metrics_names))\n",
    "print(\"W: {}, B: {}, Loss: {}\".format(dense.get_weights()[0][0][0],\n",
    "                                      dense.get_weights()[1][0], y_p_loss))\n",
    "print(\"Slope: {}, Bias: {}\".format(slope, bias))\n",
    "plt.scatter(sample_x, sample_y, marker='x')\n",
    "plt.scatter(sample_x, y_p, c='red', marker='o')\n",
    "plt.xlabel('x', fontsize=18)\n",
    "plt.ylabel('y', fontsize=18)\n",
    "plt.show()"
   ]
  }
 ],
 "metadata": {
  "kernelspec": {
   "display_name": "Python 2",
   "language": "python",
   "name": "python2"
  },
  "language_info": {
   "codemirror_mode": {
    "name": "ipython",
    "version": 2
   },
   "file_extension": ".py",
   "mimetype": "text/x-python",
   "name": "python",
   "nbconvert_exporter": "python",
   "pygments_lexer": "ipython2",
   "version": "2.7.12"
  }
 },
 "nbformat": 4,
 "nbformat_minor": 2
}
