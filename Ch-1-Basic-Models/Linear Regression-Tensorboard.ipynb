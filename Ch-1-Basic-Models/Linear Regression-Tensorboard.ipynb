{
 "cells": [
  {
   "cell_type": "markdown",
   "metadata": {},
   "source": [
    "---\n",
    "## Linear Regression with Tensorboard.\n",
    "---\n",
    "__Introduction to Tensorboard__\n",
    "\n",
    "Training & optimizing neural networks can be an iterative process. To provide better insight about how well the model is getting trained, Tensorflow has a visualization tool called Tensorboard [[1]](https://www.tensorflow.org/get_started/summaries_and_tensorboard). Tensorboard is an easy way to visualize all the the standard graphs from your training loss to how the weights are being updated.\n",
    "\n",
    "![Tensorboard](https://www.tensorflow.org/images/mnist_tensorboard.png)\n",
    "\n",
    "This section shows an example of how visualize `w` (from linear regression) in Tensorboard."
   ]
  },
  {
   "cell_type": "code",
   "execution_count": 1,
   "metadata": {},
   "outputs": [
    {
     "name": "stderr",
     "output_type": "stream",
     "text": [
      "Using TensorFlow backend.\n"
     ]
    }
   ],
   "source": [
    "import time\n",
    "from IPython import display\n",
    "\n",
    "# Import the libraries and load the datasets.\n",
    "import os\n",
    "os.environ[\"CUDA_VISIBLE_DEVICES\"] = '0'\n",
    "\n",
    "import numpy as np\n",
    "import tensorflow as tf\n",
    "from keras.backend.tensorflow_backend import set_session\n",
    "config = tf.ConfigProto()\n",
    "config.gpu_options.allow_growth = True\n",
    "set_session(tf.Session(config=config))\n",
    "\n",
    "# Plots.\n",
    "import matplotlib.pyplot as plt"
   ]
  },
  {
   "cell_type": "markdown",
   "metadata": {},
   "source": [
    "---\n",
    "### Linear Regression in Tensorflow\n",
    "Following are the steps to implement a simple linear regression function in Tensorflow.\n",
    "\n",
    "_Example: Consider the line `y = 12 * x + 10`_"
   ]
  },
  {
   "cell_type": "code",
   "execution_count": 2,
   "metadata": {},
   "outputs": [
    {
     "data": {
      "image/png": "[encoded data removed]",
      "text/plain": [
       "<matplotlib.figure.Figure at 0x3effad93e990>"
      ]
     },
     "metadata": {},
     "output_type": "display_data"
    }
   ],
   "source": [
    "# Generate some random data.\n",
    "n = 250 # Number of datapoints.\n",
    "d = 1 # The dimensions of the datapoints.\n",
    "slope = 12\n",
    "bias = 10\n",
    "\n",
    "# Randomly generate input.\n",
    "sample_x = np.random.rand(n, d)\n",
    "\n",
    "# Consider the equation of the y = m.x + b\n",
    "sample_y = slope*sample_x + bias\n",
    "\n",
    "# NOTE: We do not want a straight line. So add some random noise to the input.\n",
    "sample_noise = np.random.rand(n, d)\n",
    "sample_x += sample_noise\n",
    "\n",
    "# Plot.\n",
    "plt.scatter(sample_x, sample_y, marker='x')\n",
    "plt.xlabel('x', fontsize=18)\n",
    "plt.ylabel('y', fontsize=18)\n",
    "plt.show()"
   ]
  },
  {
   "cell_type": "markdown",
   "metadata": {},
   "source": [
    "---\n",
    "### Scopes, Summaries & Histograms.\n",
    "All the operations performed in the previous and current tutorial (including variables and constants) are given __variable names__ by Tensorflow, while compiling the computation graph. An example is `'Const', 'Const_1'` that is the name for two constants. This is in case the name has not been provided while performing the operation or creating the variable (the name can be provided using the `name` parameter in operation / variable).\n",
    "\n",
    "__NOTE: In case the name is provided, it is the developer's responsibility to keep them unique!__\n",
    "\n",
    "Tensorflow, also gives developers a method to change the scope of the names by using `tf.name_scope` where the name entered is attached as __prefix__ to all the variables in that scope. It makes it easy to track output of varies operations / variables while the training or testing.\n",
    "\n",
    "In our current example, `name_scope` is not necessary as we have just $2$ variables."
   ]
  },
  {
   "cell_type": "code",
   "execution_count": 3,
   "metadata": {},
   "outputs": [
    {
     "name": "stdout",
     "output_type": "stream",
     "text": [
      "Without Scope: w:0\n",
      "Without Scope: weights/w:0\n"
     ]
    }
   ],
   "source": [
    "# NOTE: The name of the variable is optional.\n",
    "x = tf.placeholder(tf.float32, shape=(None, 1), name=\"X\")\n",
    "y = tf.placeholder(tf.float32, shape=(None, 1), name=\"Y\")\n",
    "lr_rate = tf.placeholder(tf.float32, shape=(), name=\"lr\")\n",
    "\n",
    "# Weight & bias.\n",
    "# w = tf.get_variable(shape=[1], name=\"w\", initializer=tf.zeros_initializer())\n",
    "# b = tf.get_variable(shape=[1], name=\"b\", initializer=tf.zeros_initializer())\n",
    "\n",
    "# Initialize with a different value.\n",
    "w = tf.Variable(np.array([[5.0]]), dtype=tf.float32, name=\"w\")\n",
    "b = tf.Variable(np.array([[5.0]]), dtype=tf.float32, name=\"b\")\n",
    "\n",
    "with tf.name_scope(\"weights\"):\n",
    "    w_temp = tf.Variable(np.array([[5.0]]), dtype=tf.float32, name=\"w\")\n",
    "    b_temp = tf.Variable(np.array([[5.0]]), dtype=tf.float32, name=\"b\")\n",
    "    \n",
    "\n",
    "# Note the difference in how the names are!\n",
    "print(\"Without Scope: {}\".format(w.name))\n",
    "print(\"Without Scope: {}\".format(w_temp.name))"
   ]
  },
  {
   "cell_type": "markdown",
   "metadata": {},
   "source": [
    "__Step 2__: Once the placeholders & variable have been created, compute the $y$."
   ]
  },
  {
   "cell_type": "code",
   "execution_count": 4,
   "metadata": {},
   "outputs": [],
   "source": [
    "# Compute predicted Y.\n",
    "y_pred = w*x + b"
   ]
  },
  {
   "cell_type": "markdown",
   "metadata": {},
   "source": [
    "__Step 3__: Once the predicted $y$ has been computed, define the loss between the predicted $y$ and the actual $y$.\n",
    "\n",
    "The loss can be of various forms. In case of linear regression, we can use the L2-norm or the euclidean distance between the two points.\n",
    "\n",
    "$Loss(y) = \\lVert y - y_{pred} \\rVert^2$   \n",
    "\n",
    "i.e.  \n",
    "\n",
    "$Loss(y) = \\frac{\\sum_n(y - y_{pred})^2}{2*n}$"
   ]
  },
  {
   "cell_type": "code",
   "execution_count": 5,
   "metadata": {},
   "outputs": [],
   "source": [
    "loss = tf.div(tf.reduce_mean(tf.square(y - y_pred)), 2*n)\n",
    "\n",
    "# This can be done in a single line.\n",
    "# loss = tf.losses.mean_squared_error(y, y_pred)"
   ]
  },
  {
   "cell_type": "markdown",
   "metadata": {},
   "source": [
    "__Step 4__: The loss shows how far we are from the actual $y$ value. Use the loss to change the weights by calulating the gradient w.r.t $w$. We use a stochastic gradient descent optimizer for this purpose."
   ]
  },
  {
   "cell_type": "code",
   "execution_count": 6,
   "metadata": {},
   "outputs": [],
   "source": [
    "# Create a gradient descent optimizer with the set learning rate\n",
    "optimizer = tf.train.GradientDescentOptimizer(learning_rate=lr_rate)\n",
    "\n",
    "# Run the optimizer to minimize loss\n",
    "# Tensorflow automatically computes the gradients for the loss function!!!\n",
    "train = optimizer.minimize(loss)"
   ]
  },
  {
   "cell_type": "markdown",
   "metadata": {},
   "source": [
    "`tf.summary` contains a set of operations that allow model information to be exported to a readable format, so that it can be visualized by tools such as Tensorboard. The common methods that are used are:\n",
    "* `tf.summary.scalar`: Contains the summary of a Tensor.\n",
    "* `tf.summary.histogram`: Create a histogram for the Tensor.\n",
    "* `tf.summary.merge`: Merge the summaries of a given set of Tensors.\n",
    "* `tf.summary.mergeall`: Merge all the summaries in the given Tensor graph.\n",
    "\n",
    "__Step 5__: Add summaries for the variables that are to be visualized."
   ]
  },
  {
   "cell_type": "code",
   "execution_count": 7,
   "metadata": {},
   "outputs": [],
   "source": [
    "# Helper function.\n",
    "# https://www.tensorflow.org/get_started/summaries_and_tensorboard\n",
    "def variable_summaries(var, name):\n",
    "    \"\"\"Attach a lot of summaries to a Tensor (for TensorBoard visualization).\"\"\"\n",
    "    with tf.name_scope(name):\n",
    "        with tf.name_scope('summaries'):\n",
    "            mean = tf.reduce_mean(var)\n",
    "            tf.summary.scalar('mean', mean)\n",
    "            \n",
    "            with tf.name_scope('stddev'):\n",
    "                stddev = tf.sqrt(tf.reduce_mean(tf.square(var - mean)))\n",
    "            \n",
    "            tf.summary.scalar('stddev', stddev)\n",
    "            tf.summary.scalar('max', tf.reduce_max(var))\n",
    "            tf.summary.scalar('min', tf.reduce_min(var))\n",
    "            tf.summary.histogram('histogram', var)\n",
    "    \n",
    "# Define summaries.\n",
    "variable_summaries(w, \"weights\")\n",
    "variable_summaries(b, \"bias\")\n",
    "variable_summaries(loss, \"loss\")"
   ]
  },
  {
   "cell_type": "markdown",
   "metadata": {},
   "source": [
    "__Step 6__: `train` the model."
   ]
  },
  {
   "cell_type": "code",
   "execution_count": 8,
   "metadata": {},
   "outputs": [],
   "source": [
    "# Initialize all variables\n",
    "init = tf.global_variables_initializer()"
   ]
  },
  {
   "cell_type": "markdown",
   "metadata": {},
   "source": [
    "__Step 7__: With the histogram being generated for each variable. `merge_all` the summaries.\n",
    "The logs are written to the `logs/` which is the logs sub-directory from the current."
   ]
  },
  {
   "cell_type": "code",
   "execution_count": 9,
   "metadata": {},
   "outputs": [
    {
     "name": "stdout",
     "output_type": "stream",
     "text": [
      "W: 7.73510742188, B: 8.15111351013, Loss: 0.0123884677887\n",
      "Slope: 12, Bias: 10\n"
     ]
    },
    {
     "data": {
      "image/png": "[encoded data removed]",
      "text/plain": [
       "<matplotlib.figure.Figure at 0x3effad306990>"
      ]
     },
     "metadata": {},
     "output_type": "display_data"
    }
   ],
   "source": [
    "# Define some hyper-parameters.\n",
    "lr = 0.1\n",
    "epochs = 5000\n",
    "log_dir = 'logs/tf/' # Tensorboard log directory.\n",
    "\n",
    "# Train the model.\n",
    "with tf.Session() as sess:\n",
    "    # Initialize all variables\n",
    "    sess.run(init)\n",
    "    \n",
    "    # Create the writer.\n",
    "    # Merge all the summaries and write them.\n",
    "    merged = tf.summary.merge_all()\n",
    "    train_writer = tf.summary.FileWriter(log_dir, sess.graph)\n",
    "    \n",
    "    for epoch in range(epochs):\n",
    "        y_p, curr_w, curr_b, curr_loss, _, summary = sess.run([y_pred, w, b, loss,\n",
    "                                                               train, merged],\n",
    "                                                      feed_dict = {x:sample_x, y: sample_y,\n",
    "                                                                  lr_rate: lr})\n",
    "        # IMP: Add the summary for each epoch.\n",
    "        train_writer.add_summary(summary, epoch)    \n",
    "    \n",
    "    train_writer.close() # <-------Important!\n",
    "    print(\"W: {}, B: {}, Loss: {}\".format(curr_w[0][0], curr_b[0][0], curr_loss))\n",
    "    print(\"Slope: {}, Bias: {}\".format(slope, bias))\n",
    "    plt.scatter(sample_x, sample_y, marker='x')\n",
    "    plt.scatter(sample_x, y_p, c='red', marker='o')\n",
    "    plt.xlabel('x', fontsize=18)\n",
    "    plt.ylabel('y', fontsize=18)\n",
    "    plt.show()"
   ]
  },
  {
   "cell_type": "markdown",
   "metadata": {},
   "source": [
    "---\n",
    "## Keras Implementation.\n",
    "Similar to the example in linear regression, Keras makes it __easy__ to generate summaries so that it can be visualized in Tensorboard."
   ]
  },
  {
   "cell_type": "code",
   "execution_count": 10,
   "metadata": {},
   "outputs": [],
   "source": [
    "from keras.layers import Dense, Input\n",
    "from keras.initializers import random_normal\n",
    "from keras.models import Model\n",
    "from keras import optimizers, metrics"
   ]
  },
  {
   "cell_type": "markdown",
   "metadata": {},
   "source": [
    "For tensorboard add it from __keras backend__. `keras.callbacks.TensorBoard`"
   ]
  },
  {
   "cell_type": "code",
   "execution_count": 11,
   "metadata": {},
   "outputs": [],
   "source": [
    "from keras.callbacks import TensorBoard"
   ]
  },
  {
   "cell_type": "code",
   "execution_count": 12,
   "metadata": {},
   "outputs": [],
   "source": [
    "# Create a layer to take an input.\n",
    "input_l = Input(shape=np.array([1]))\n",
    "# Compute Wx + b.\n",
    "dense = Dense(np.array([1]), activation='linear')\n",
    "output = dense(input_l)"
   ]
  },
  {
   "cell_type": "code",
   "execution_count": 13,
   "metadata": {},
   "outputs": [
    {
     "name": "stdout",
     "output_type": "stream",
     "text": [
      "_________________________________________________________________\n",
      "Layer (type)                 Output Shape              Param #   \n",
      "=================================================================\n",
      "input_1 (InputLayer)         (None, 1)                 0         \n",
      "_________________________________________________________________\n",
      "dense_1 (Dense)              (None, array([1]))        2         \n",
      "=================================================================\n",
      "Total params: 2\n",
      "Trainable params: 2\n",
      "Non-trainable params: 0\n",
      "_________________________________________________________________\n"
     ]
    }
   ],
   "source": [
    "# Create a model and compile it.\n",
    "model = Model(inputs=[input_l], outputs=[output])\n",
    "model.summary() # Get the summary."
   ]
  },
  {
   "cell_type": "code",
   "execution_count": 14,
   "metadata": {},
   "outputs": [],
   "source": [
    "sgd = optimizers.sgd(lr=lr)\n",
    "model.compile(optimizer=sgd, loss='mean_squared_error')\n",
    "\n",
    "# NOTE: Add Tensorboard after compiling.\n",
    "tensorboard = TensorBoard(log_dir=\"logs/keras/\")"
   ]
  },
  {
   "cell_type": "markdown",
   "metadata": {},
   "source": [
    "__That's pretty much it!__\n",
    "Add `callbacks=[tensorboard]` to the fit function."
   ]
  },
  {
   "cell_type": "code",
   "execution_count": 15,
   "metadata": {},
   "outputs": [
    {
     "data": {
      "text/plain": [
       "<keras.callbacks.History at 0x3efdbd35eb90>"
      ]
     },
     "execution_count": 15,
     "metadata": {},
     "output_type": "execute_result"
    }
   ],
   "source": [
    "# Train the model.\n",
    "# Add a callback.\n",
    "model.fit(x=sample_x, y=sample_y, epochs=epochs, verbose=0, callbacks=[tensorboard])"
   ]
  },
  {
   "cell_type": "code",
   "execution_count": 16,
   "metadata": {},
   "outputs": [
    {
     "name": "stdout",
     "output_type": "stream",
     "text": [
      "\r",
      " 32/250 [==>...........................] - ETA: 0s"
     ]
    }
   ],
   "source": [
    "# Predict the y's.\n",
    "y_p = model.predict(sample_x)\n",
    "y_p_loss = model.evaluate(sample_x, sample_y)"
   ]
  },
  {
   "cell_type": "code",
   "execution_count": 17,
   "metadata": {},
   "outputs": [
    {
     "name": "stdout",
     "output_type": "stream",
     "text": [
      "Evaluation Metrics: ['loss']\n",
      "W: 6.06071662903, B: 10.2424144745, Loss: 5.655091362\n",
      "Slope: 12, Bias: 10\n"
     ]
    },
    {
     "data": {
      "image/png": "[encoded data removed]",
      "text/plain": [
       "<matplotlib.figure.Figure at 0x3effad468ad0>"
      ]
     },
     "metadata": {},
     "output_type": "display_data"
    }
   ],
   "source": [
    "# Plot them.\n",
    "print(\"Evaluation Metrics: \" + str(model.metrics_names))\n",
    "print(\"W: {}, B: {}, Loss: {}\".format(dense.get_weights()[0][0][0],\n",
    "                                      dense.get_weights()[1][0], y_p_loss))\n",
    "print(\"Slope: {}, Bias: {}\".format(slope, bias))\n",
    "plt.scatter(sample_x, sample_y, marker='x')\n",
    "plt.scatter(sample_x, y_p, c='red', marker='o')\n",
    "plt.xlabel('x', fontsize=18)\n",
    "plt.ylabel('y', fontsize=18)\n",
    "plt.show()"
   ]
  },
  {
   "cell_type": "markdown",
   "metadata": {},
   "source": [
    "__That's an example with TensorBoard!__\n",
    "\n",
    "Tensorboard command: `$> tensorboard --logdir <log directory>`"
   ]
  }
 ],
 "metadata": {
  "kernelspec": {
   "display_name": "Python 2",
   "language": "python",
   "name": "python2"
  },
  "language_info": {
   "codemirror_mode": {
    "name": "ipython",
    "version": 2
   },
   "file_extension": ".py",
   "mimetype": "text/x-python",
   "name": "python",
   "nbconvert_exporter": "python",
   "pygments_lexer": "ipython2",
   "version": "2.7.12"
  }
 },
 "nbformat": 4,
 "nbformat_minor": 2
}
