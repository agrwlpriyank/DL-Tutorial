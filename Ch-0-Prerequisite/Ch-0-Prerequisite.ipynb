{
 "cells": [
  {
   "cell_type": "markdown",
   "metadata": {},
   "source": [
    "# Chapter 0: Resource Links.\n",
    "This section provides information about Deep Learning resources from examples on how to construct different kinds of network architectures in various libraries to in-depth explanation about how the architectures work.\n",
    "\n",
    "## Online Courses.\n",
    "There are multiple online courses in Deep Learning (machine learning in general) that are popular with varying levels of difficulty.\n",
    "#### Deep Learning Courses.\n",
    "* [Coursera course by Andrew Ng (probably the most popular)](https://www.deeplearning.ai/)\n",
    "* [Neural Networks by Geoffery Hinton](https://www.coursera.org/learn/neural-networks)\n",
    "* [Google Deep Learning tutorials (with programming in Tensorflow)](https://www.udacity.com/course/deep-learning--ud730)\n",
    "* [Google Convolutional Neural Networks](https://www.udacity.com/course/convolutional-neural-networks--cx22)\n",
    "\n",
    "#### Machine Learning Courses.\n",
    "* [Introduction to Machine Learning By Andrew Ng (Popular)](https://www.coursera.org/learn/machine-learning/)\n",
    "* [Introduction to Probabilistic Graph Models By Daphne Koller](https://www.coursera.org/learn/probabilistic-graphical-models/)\n",
    "\n",
    "## Awesome Lists.\n",
    "Awesome lists are a curated list of papers, links to codebase, datasets that are maintained by the researching community. The list is maintained usually on github. \n",
    "\n",
    "Makes it easy to keep track of some of the good papers in the area!\n",
    "* [Deep Learning](https://github.com/ChristosChristofidis/awesome-deep-learning)\n",
    "* [Machine Learning](https://github.com/josephmisiti/awesome-machine-learning)\n",
    "* [Computer Vision](https://github.com/jbhuang0604/awesome-computer-vision)\n",
    "* [Deep Vision](https://github.com/kjw0612/awesome-deep-vision)\n",
    "* [Tensorflow](https://github.com/jtoy/awesome-tensorflow)\n",
    "\n",
    "## External Resources.\n",
    "* [Deep Learning (by Univ. Of Montreal)](http://deeplearning.net/)\n"
   ]
  }
 ],
 "metadata": {
  "kernelspec": {
   "display_name": "Python 2",
   "language": "python",
   "name": "python2"
  },
  "language_info": {
   "codemirror_mode": {
    "name": "ipython",
    "version": 2
   },
   "file_extension": ".py",
   "mimetype": "text/x-python",
   "name": "python",
   "nbconvert_exporter": "python",
   "pygments_lexer": "ipython2",
   "version": "2.7.12"
  }
 },
 "nbformat": 4,
 "nbformat_minor": 2
}
