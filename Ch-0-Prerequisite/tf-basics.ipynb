{
 "cells": [
  {
   "cell_type": "markdown",
   "metadata": {},
   "source": [
    "---\n",
    "# Tensorflow Basics.\n",
    "---\n",
    "This section is a brief introduction to some of the basics of tensorflow.\n",
    "* Tensorflow Variables.\n",
    "* Basic Operations.\n",
    "* Computation Graph.\n",
    "\n",
    "Tensorflows code and operations are a quick study, especially if you are aware of Numpy. The semantics of tensorflow's api are similar to numpy.\n",
    "* [A guide to Numpy](https://docs.scipy.org/doc/numpy-dev/user/quickstart.html)"
   ]
  },
  {
   "cell_type": "code",
   "execution_count": 2,
   "metadata": {},
   "outputs": [],
   "source": [
    "# Import the tensorflow library.\n",
    "import tensorflow as tf\n",
    "\n",
    "# This is not required but useful. See Below!\n",
    "import numpy as np"
   ]
  },
  {
   "cell_type": "markdown",
   "metadata": {},
   "source": [
    "### Hello World!\n",
    "`tf.constant`: To create a constant. A constant by definition will not change, once the value is set."
   ]
  },
  {
   "cell_type": "code",
   "execution_count": 3,
   "metadata": {},
   "outputs": [
    {
     "name": "stdout",
     "output_type": "stream",
     "text": [
      "Tensor(\"Const:0\", shape=(), dtype=string)\n"
     ]
    }
   ],
   "source": [
    "# Start every new language with Hello World!\n",
    "h = tf.constant(\"Hello World!\")\n",
    "print(h)"
   ]
  },
  {
   "cell_type": "markdown",
   "metadata": {},
   "source": [
    "As seen above this did not work! Now once a constant has been declared, it cannot be directly evaluated (`eval()`). It needs to be run in session!\n",
    "\n",
    "#### Try: Run h.eval() to print the string in the constant. (There is an error)!"
   ]
  },
  {
   "cell_type": "code",
   "execution_count": 4,
   "metadata": {},
   "outputs": [
    {
     "name": "stdout",
     "output_type": "stream",
     "text": [
      "1: Hello World!\n",
      "2: Hello World!\n"
     ]
    }
   ],
   "source": [
    "with tf.Session() as sess:\n",
    "    print(\"1: \" + sess.run(h))\n",
    "    \n",
    "# NOTE: Session is necessary whenever any evaluation and computations are done.\n",
    "# Print using the eval function. The eval() takes sessions as an input parameter.\n",
    "sess1 = tf.Session()\n",
    "print(\"2: \" + h.eval(session=sess1))\n",
    "sess.close()"
   ]
  },
  {
   "cell_type": "code",
   "execution_count": 5,
   "metadata": {},
   "outputs": [
    {
     "name": "stdout",
     "output_type": "stream",
     "text": [
      "(4.0, 5)\n"
     ]
    }
   ],
   "source": [
    "# Creating different types of constants.\n",
    "# dtype - in case the type of the constant is to be specified.\n",
    "a = tf.constant(4.0)\n",
    "b = tf.constant(5, dtype=tf.int32)\n",
    "with tf.Session() as sess:\n",
    "    print(sess.run(a), sess.run(b))"
   ]
  },
  {
   "cell_type": "markdown",
   "metadata": {},
   "source": [
    "### Tensorflow Math Operations.\n",
    "Simple vector math operations!"
   ]
  },
  {
   "cell_type": "code",
   "execution_count": 6,
   "metadata": {},
   "outputs": [
    {
     "name": "stdout",
     "output_type": "stream",
     "text": [
      "x = 30.0\n",
      "y = 30.0\n",
      "x + y = 30.0\n",
      "x - y = 20.0\n",
      "x * y = 125.00\n",
      "x / y = 5.0\n",
      "SQRT(x): 5.0\n"
     ]
    }
   ],
   "source": [
    "x = tf.constant(25.0)\n",
    "y = tf.constant(5.0)\n",
    "with tf.Session() as sess:\n",
    "    print(\"x = %0.1f\"%sess.run(x+y))\n",
    "    print(\"y = %0.1f\"%sess.run(x+y))\n",
    "    print(\"x + y = %0.1f\"%sess.run(x+y))\n",
    "    print(\"x - y = %0.1f\"%sess.run(x-y))\n",
    "    print(\"x * y = {:.2f}\".format(sess.run(x*y))) # Different way to print.\n",
    "    print(\"x / y = %0.1f\"%sess.run(x/y))\n",
    "    print(\"SQRT(x): %0.1f\"%sess.run(tf.sqrt(x)))\n",
    "    "
   ]
  },
  {
   "cell_type": "markdown",
   "metadata": {},
   "source": [
    "### Numpy.\n",
    "#### The foundation for pretty much any machine learning in Python.\n",
    "A quick primer about numpy will help understand tensorflow __tensors__ & __placeholders__, __variables__."
   ]
  },
  {
   "cell_type": "code",
   "execution_count": 7,
   "metadata": {},
   "outputs": [
    {
     "name": "stdout",
     "output_type": "stream",
     "text": [
      "((2, 2), (2, 2))\n"
     ]
    }
   ],
   "source": [
    "# What is shape?\n",
    "m = np.array([[1,2],[3,4]])\n",
    "n = np.array([[5,6],[7,8]])\n",
    "print(m.shape, n.shape)"
   ]
  },
  {
   "cell_type": "code",
   "execution_count": 8,
   "metadata": {},
   "outputs": [
    {
     "name": "stdout",
     "output_type": "stream",
     "text": [
      "(array([[2, 4],\n",
      "       [6, 8]]), (2, 2))\n"
     ]
    }
   ],
   "source": [
    "# Broadcast is important concept. In broadcasting, the size of the vector is changed to perform\n",
    "# a certain operation (IMPORTANT: If possible!)\n",
    "o = 2\n",
    "print((m * o), (m * o).shape)\n",
    "\n",
    "# Try: What happens when o = np.array([[2, 2], [2, 2]]) ?"
   ]
  },
  {
   "cell_type": "markdown",
   "metadata": {},
   "source": [
    "---\n",
    "### Computation Graph.\n",
    "---\n",
    "In tensorflow, operations are evaluated by creating a computational graph. The graph is usually a DAG (directed acyclic graph) that shows the operations at each node."
   ]
  },
  {
   "cell_type": "code",
   "execution_count": 12,
   "metadata": {},
   "outputs": [
    {
     "name": "stdout",
     "output_type": "stream",
     "text": [
      "11.0\n",
      "()\n",
      "[u'Const', u'Const_1', u'add']\n"
     ]
    }
   ],
   "source": [
    "# Reset.\n",
    "tf.reset_default_graph()\n",
    "\n",
    "# A simple example.\n",
    "a = tf.constant(5.0)\n",
    "b = tf.constant(6.0)\n",
    "c = a + b\n",
    "\n",
    "# Create a session and test.\n",
    "with tf.Session() as sess2:\n",
    "    result = sess2.run(c)\n",
    "    print(result)\n",
    "    print(result.shape)\n",
    "    # NOTE: The shape parameter is there because the result is a numpy array.\n",
    "\n",
    "    # Print all the nodes in the graph.\n",
    "    print([n.name for n in tf.get_default_graph().as_graph_def().node])\n",
    "\n",
    "# Try: How many nodes are there when you perform c = (a + b)/2 ?"
   ]
  },
  {
   "cell_type": "markdown",
   "metadata": {},
   "source": [
    "A __placeholder__ is a tensorflow symbol that can take a dynamic input at runtime and create a tensorflow tensor. All the neural network inputs that provided will be __placeholder__. "
   ]
  },
  {
   "cell_type": "code",
   "execution_count": 10,
   "metadata": {},
   "outputs": [
    {
     "name": "stdout",
     "output_type": "stream",
     "text": [
      "(8.0, 12.0)\n"
     ]
    }
   ],
   "source": [
    "# Perform basic operations with placeholders.\n",
    "d = tf.placeholder(tf.float32, shape=None)\n",
    "e = tf.placeholder(tf.float32, shape=())\n",
    "sum_1 = a + d\n",
    "mul_1 = b * e\n",
    "\n",
    "# Create a session and test.\n",
    "with tf.Session() as sess2:\n",
    "    sum_1, mul_1 = sess2.run([sum_1, mul_1], feed_dict={d: 3.0, e:2.0})\n",
    "    print(sum_1, mul_1)    \n",
    "    # Try: result = sess2.run(d)\n",
    "    # What do you see? One of the bad parts about tensorflow.\n"
   ]
  },
  {
   "cell_type": "code",
   "execution_count": 11,
   "metadata": {},
   "outputs": [
    {
     "name": "stdout",
     "output_type": "stream",
     "text": [
      "(array([[  5.,  10.],\n",
      "       [ 15.,  20.]], dtype=float32), array([[ 12.,  24.,   6.],\n",
      "       [ 36.,  48.,   6.],\n",
      "       [ 60.,  72.,   6.]], dtype=float32))\n",
      "((2, 2), (3, 3))\n"
     ]
    }
   ],
   "source": [
    "# Quick example for vector operations.\n",
    "f = tf.placeholder(tf.float32, shape=(2, 2))\n",
    "g = tf.placeholder(tf.float32, shape=(3, 3))\n",
    "\n",
    "sum_2 = a * f\n",
    "mul_2 = b * g\n",
    "\n",
    "# print(.shape)\n",
    "# Create a session and test.\n",
    "with tf.Session() as sess2:\n",
    "    # f: Uses python lists.\n",
    "    # g: Uses numpy arrays.\n",
    "    sum_2, mul_2 = sess2.run([sum_2, mul_2], feed_dict={f:[[1.0,2.0],[3.0,4.0]],\n",
    "                                                        g:np.array([[2., 4., 1.],\n",
    "                                                                    [6., 8., 1.], \n",
    "                                                                    [10., 12., 1.]])})\n",
    "    print(sum_2, mul_2)\n",
    "    print(sum_2.shape, mul_2.shape)\n",
    "    # NOTE: Remember broadcast!"
   ]
  }
 ],
 "metadata": {
  "kernelspec": {
   "display_name": "Python 2",
   "language": "python",
   "name": "python2"
  },
  "language_info": {
   "codemirror_mode": {
    "name": "ipython",
    "version": 2
   },
   "file_extension": ".py",
   "mimetype": "text/x-python",
   "name": "python",
   "nbconvert_exporter": "python",
   "pygments_lexer": "ipython2",
   "version": "2.7.12"
  }
 },
 "nbformat": 4,
 "nbformat_minor": 2
}
