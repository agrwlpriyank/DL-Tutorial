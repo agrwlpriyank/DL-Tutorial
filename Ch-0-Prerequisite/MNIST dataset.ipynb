{
 "cells": [
  {
   "cell_type": "markdown",
   "metadata": {},
   "source": [
    "---\n",
    "## MNIST Dataset\n",
    "---\n",
    "This section gives an overview of the MNIST dataset. The MNIST dataset consists of images of handwritten digits. Each image has a size of 28x28 pixels. Each pixel has a binary value of 0 or 1.\n",
    "\n",
    "![MNIST Digits](http://neuralnetworksanddeeplearning.com/images/mnist_100_digits.png)[[1]](http://neuralnetworksanddeeplearning.com/images/mnist_100_digits.png)\n",
    "Tensorflow and Keras provide an interface to download the data & create a batch of images for training.\n",
    "\n",
    "[MNIST Dataset](Link: http://yann.lecun.com/exdb/mnist/)"
   ]
  },
  {
   "cell_type": "code",
   "execution_count": 1,
   "metadata": {},
   "outputs": [
    {
     "name": "stdout",
     "output_type": "stream",
     "text": [
      "Extracting data/train-images-idx3-ubyte.gz\n",
      "Extracting data/train-labels-idx1-ubyte.gz\n",
      "Extracting data/t10k-images-idx3-ubyte.gz\n",
      "Extracting data/t10k-labels-idx1-ubyte.gz\n"
     ]
    }
   ],
   "source": [
    "# Necessary imports\n",
    "import time\n",
    "from IPython import display\n",
    "\n",
    "# Numpy.\n",
    "# Matplotlib for plotting images.\n",
    "import numpy as np\n",
    "import matplotlib.pyplot as plt\n",
    "from matplotlib.pyplot import imshow, figure\n",
    "from PIL import Image, ImageOps\n",
    "import tensorflow as tf\n",
    "\n",
    "%matplotlib inline\n",
    "\n",
    "from tensorflow.examples.tutorials.mnist import input_data\n",
    "\n",
    "# Read the mnist dataset.\n",
    "mnist = input_data.read_data_sets(\"data/\", one_hot=True)"
   ]
  },
  {
   "cell_type": "code",
   "execution_count": 2,
   "metadata": {},
   "outputs": [
    {
     "name": "stdout",
     "output_type": "stream",
     "text": [
      "(<class 'tensorflow.contrib.learn.python.learn.datasets.mnist.DataSet'>, ['__class__', '__delattr__', '__dict__', '__doc__', '__format__', '__getattribute__', '__hash__', '__init__', '__module__', '__new__', '__reduce__', '__reduce_ex__', '__repr__', '__setattr__', '__sizeof__', '__str__', '__subclasshook__', '__weakref__', '_epochs_completed', '_images', '_index_in_epoch', '_labels', '_num_examples', 'epochs_completed', 'images', 'labels', 'next_batch', 'num_examples'])\n",
      "(<class 'tensorflow.contrib.learn.python.learn.datasets.mnist.DataSet'>, ['__class__', '__delattr__', '__dict__', '__doc__', '__format__', '__getattribute__', '__hash__', '__init__', '__module__', '__new__', '__reduce__', '__reduce_ex__', '__repr__', '__setattr__', '__sizeof__', '__str__', '__subclasshook__', '__weakref__', '_epochs_completed', '_images', '_index_in_epoch', '_labels', '_num_examples', 'epochs_completed', 'images', 'labels', 'next_batch', 'num_examples'])\n"
     ]
    }
   ],
   "source": [
    "# NOTE: MNIST is of type: tensorflow.contrib.learn.python.learn.datasets.mnist.DataSet\n",
    "# Tensorflow porvides an interface to build dataset and create batches.\n",
    "print(type(mnist[0]), dir(mnist[0]))\n",
    "print(type(mnist[1]), dir(mnist[1]))"
   ]
  },
  {
   "cell_type": "code",
   "execution_count": 3,
   "metadata": {},
   "outputs": [
    {
     "name": "stdout",
     "output_type": "stream",
     "text": [
      "Image Size: 784\n",
      "---------------------------------\n",
      "Training data Size: 55000\n",
      "Training Image Size: (55000, 784)\n",
      "---------------------------------\n",
      "Validation Size: 5000\n",
      "Validation Size: (5000, 784)\n",
      "---------------------------------\n",
      "Test Size: 10000\n",
      "Test Size: (10000, 784)\n",
      "---------------------------------\n"
     ]
    }
   ],
   "source": [
    "# Inspect the dataset.\n",
    "# Splits: Training, Validation, Testing (90/10).\n",
    "image_h = 28\n",
    "image_w = 28\n",
    "print(\"Image Size: {}\".format(image_h * image_w))\n",
    "print(\"---\"*11)\n",
    "\n",
    "# Dataset size.\n",
    "print(\"Training data Size: {}\".format(mnist[0].num_examples))\n",
    "print(\"Training Image Size: {}\".format(mnist[0].images.shape))\n",
    "print(\"---\"*11)\n",
    "print(\"Validation Size: {}\".format(mnist[1].num_examples))\n",
    "print(\"Validation Size: {}\".format(mnist[1].images.shape))\n",
    "print(\"---\"*11)\n",
    "print(\"Test Size: {}\".format(mnist[2].num_examples))\n",
    "print(\"Test Size: {}\".format(mnist[2].images.shape))\n",
    "print(\"---\"*11)"
   ]
  },
  {
   "cell_type": "markdown",
   "metadata": {},
   "source": [
    "From the image size above it is visible that the image of size `28x28` has been reshaped into a single vector of size `1x784`.\n",
    "\n",
    "Lets __inspect__ some of the images."
   ]
  },
  {
   "cell_type": "code",
   "execution_count": 4,
   "metadata": {
    "scrolled": true
   },
   "outputs": [
    {
     "name": "stdout",
     "output_type": "stream",
     "text": [
      "Label 9: [ 0.  0.  0.  0.  0.  0.  0.  0.  0.  1.]\n",
      "Label 1: [ 0.  1.  0.  0.  0.  0.  0.  0.  0.  0.]\n",
      "Label 7: [ 0.  0.  0.  0.  0.  0.  0.  1.  0.  0.]\n"
     ]
    },
    {
     "data": {
      "image/png": "[encoded data removed]",
      "text/plain": [
       "<matplotlib.figure.Figure at 0x3fff47d91e90>"
      ]
     },
     "metadata": {},
     "output_type": "display_data"
    }
   ],
   "source": [
    "# Figure.\n",
    "fig = figure()\n",
    "\n",
    "# An example of an image.\n",
    "idx = 350 # Random\n",
    "img_1 = np.reshape(mnist[0].images[idx], (28, 28))\n",
    "fig.add_subplot(1, 3, 1)\n",
    "imshow(img_1, cmap=\"Greys\")\n",
    "\n",
    "img_2 = np.reshape(mnist[0].images[idx+1], (28, 28))\n",
    "fig.add_subplot(1, 3, 2)\n",
    "imshow(img_2, cmap=\"Greys\")\n",
    "\n",
    "img_3 = np.reshape(mnist[0].images[idx+2], (28, 28))\n",
    "fig.add_subplot(1, 3, 3)\n",
    "imshow(img_3, cmap=\"Greys\")\n",
    "print(\"Label 9: {}\".format(mnist[0].labels[idx]))\n",
    "print(\"Label 1: {}\".format(mnist[0].labels[idx+1]))\n",
    "print(\"Label 7: {}\".format(mnist[0].labels[idx+2]))"
   ]
  },
  {
   "cell_type": "code",
   "execution_count": 5,
   "metadata": {},
   "outputs": [
    {
     "name": "stdout",
     "output_type": "stream",
     "text": [
      "((25, 784), (25, 10))\n"
     ]
    }
   ],
   "source": [
    "# Test a batch.\n",
    "batch_size = 25\n",
    "batch_X, batch_Y = mnist.train.next_batch(batch_size)\n",
    "print(batch_X.shape, batch_Y.shape)"
   ]
  },
  {
   "cell_type": "markdown",
   "metadata": {},
   "source": [
    "---\n",
    "__Creating Your Own One Hot-encoded Format__\n",
    "\n",
    "The labels are in one-hot encoded form. To create one ot-encoded labels for your own dataset, the scikit-learn one hot encoder can be used."
   ]
  },
  {
   "cell_type": "code",
   "execution_count": 6,
   "metadata": {},
   "outputs": [],
   "source": [
    "# Import encoder.\n",
    "from sklearn.preprocessing import OneHotEncoder"
   ]
  },
  {
   "cell_type": "code",
   "execution_count": 7,
   "metadata": {},
   "outputs": [
    {
     "data": {
      "text/plain": [
       "OneHotEncoder(categorical_features='all', dtype=<type 'numpy.float64'>,\n",
       "       handle_unknown='error', n_values='auto', sparse=True)"
      ]
     },
     "execution_count": 7,
     "metadata": {},
     "output_type": "execute_result"
    }
   ],
   "source": [
    "enc = OneHotEncoder()\n",
    "enc.fit([[0], [1], [2], [3], [4], [5], [6], [7], [8], [9]])"
   ]
  },
  {
   "cell_type": "code",
   "execution_count": 8,
   "metadata": {},
   "outputs": [
    {
     "name": "stdout",
     "output_type": "stream",
     "text": [
      "Number of Encoded Values: [10]\n",
      "Label 9: [[ 0.  0.  0.  0.  0.  0.  0.  0.  0.  1.]]\n",
      "Label 1: [[ 0.  1.  0.  0.  0.  0.  0.  0.  0.  0.]]\n",
      "Label 7: [[ 0.  0.  0.  0.  0.  0.  0.  1.  0.  0.]]\n"
     ]
    }
   ],
   "source": [
    "print(\"Number of Encoded Values: {}\".format(enc.n_values_))\n",
    "print(\"Label 9: {}\".format(enc.transform([[9]]).toarray()))\n",
    "print(\"Label 1: {}\".format(enc.transform([[1]]).toarray()))\n",
    "print(\"Label 7: {}\".format(enc.transform([[7]]).toarray()))"
   ]
  }
 ],
 "metadata": {
  "kernelspec": {
   "display_name": "Python 2",
   "language": "python",
   "name": "python2"
  },
  "language_info": {
   "codemirror_mode": {
    "name": "ipython",
    "version": 2
   },
   "file_extension": ".py",
   "mimetype": "text/x-python",
   "name": "python",
   "nbconvert_exporter": "python",
   "pygments_lexer": "ipython2",
   "version": "2.7.12"
  }
 },
 "nbformat": 4,
 "nbformat_minor": 2
}
